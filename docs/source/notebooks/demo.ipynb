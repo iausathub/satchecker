{
 "cells": [
  {
   "cell_type": "markdown",
   "id": "0c8618fe",
   "metadata": {},
   "source": [
    "# Example Notebook\n",
    "This Jupyter Notebook is meant to illustrate how the IAU CPS SatHub Ephemeris API (https://apexgroup.web.illinois.edu/api_documentation.html) can be used with python.\n",
    "Since the ephemeris services are hosted on the web no specific software installation is required. The computer calling the API needs to be connected to the internet.\n",
    "\n"
   ]
  },
  {
   "cell_type": "code",
   "execution_count": 1,
   "id": "fe4d42e9",
   "metadata": {},
   "outputs": [],
   "source": [
    "# The requests package is needed to talk to internet services\n",
    "import requests"
   ]
  },
  {
   "cell_type": "markdown",
   "id": "5bff29eb",
   "metadata": {},
   "source": [
    "In order to check whether the ephemeris service is online."
   ]
  },
  {
   "cell_type": "code",
   "execution_count": 2,
   "id": "5704068e",
   "metadata": {},
   "outputs": [
    {
     "name": "stdout",
     "output_type": "stream",
     "text": [
      "<Response [200]>\n"
     ]
    }
   ],
   "source": [
    "#This is the api root endpoint, i.e. where the service lives.\n",
    "BASE_URL = 'http://apexgroup.web.illinois.edu/ephemeris/'\n",
    "#This endpoint redirects user to the Center for the Protection of Dark and Quiet Sky homepage.\n",
    "\n",
    "#Should return status code 200 if the service is online.\n",
    "print(requests.get(f'{BASE_URL}'))"
   ]
  },
  {
   "cell_type": "markdown",
   "id": "3c34e022",
   "metadata": {},
   "source": [
    "The first service we will discuss is simply returning topocentric (local) predictions of where on the sky the satellite is at a given epoch (point in time). The so-called \"entry point\", or url this service lives at is \n",
    "http://apexgroup.web.illinois.edu/ephemeris/name/\n",
    "To make this work we need to define the following quantities:\n"
   ]
  },
  {
   "cell_type": "code",
   "execution_count": 4,
   "id": "57473ad3",
   "metadata": {},
   "outputs": [],
   "source": [
    "# Name of the object as apparent in TLE files (CelesTrak, https://celestrak.com/NORAD/elements/starlink.txt)\n",
    "name = 'STARLINK-1600'\n",
    "# Observer latitude (N) in degrees\n",
    "latitude = 40.1164\n",
    "# Observer longitude (E) in degrees\n",
    "longitude = -88.2434\n",
    "# Observer elevation (m)\n",
    "elevation = 5000\n",
    "# Time of ephemeris in Julian Date (UT1)\n",
    "jd = 2459995.50000"
   ]
  },
  {
   "cell_type": "markdown",
   "id": "685fe200",
   "metadata": {},
   "source": [
    "The query will then be formulated as follows:"
   ]
  },
  {
   "cell_type": "code",
   "execution_count": 5,
   "id": "99c4e764",
   "metadata": {},
   "outputs": [],
   "source": [
    "result = requests.get(f'{BASE_URL}name/{name}/{latitude}/{longitude}/{elevation}/{jd}')"
   ]
  },
  {
   "cell_type": "markdown",
   "id": "914a67eb",
   "metadata": {},
   "source": [
    "Results are returned in JSON format. Let's print the results:"
   ]
  },
  {
   "cell_type": "code",
   "execution_count": 6,
   "id": "ad3ea2b4",
   "metadata": {},
   "outputs": [
    {
     "name": "stdout",
     "output_type": "stream",
     "text": [
      "[{\"ALTITUDE-DEG\":-56.06336687717,\"AZIMUTH-DEG\":136.0803250693,\"DECLINATION-DEG\":-57.23962192011,\"JULIAN_DATE\":2459995.5,\"NAME\":\"STARLINK-1600\",\"RANGE-KM\":11225.207450745997,\"RIGHT_ASCENSION-DEG\":195.19098297836}]\n",
      "\n"
     ]
    }
   ],
   "source": [
    "print(result.text)"
   ]
  },
  {
   "cell_type": "markdown",
   "id": "8ab5df6c",
   "metadata": {},
   "source": [
    "Another option is to return the position of a satellite at regular time intervals. "
   ]
  },
  {
   "cell_type": "code",
   "execution_count": 8,
   "id": "335e2a73",
   "metadata": {},
   "outputs": [],
   "source": [
    "# Name of the object as apparent in TLE files (CelesTrak)\n",
    "name = 'ISS'\n",
    "# Observer latitude (N) in degrees\n",
    "latitude = 40.1164\n",
    "# Observer longitude (E) in degrees\n",
    "longitude = -88.2434\n",
    "# Observer elevation (m)\n",
    "elevation = 5000\n",
    "# Start Time, Stop Time and time step of ephemeris output in Julian Date (UT1)\n",
    "jdstart = 2459994.50000\n",
    "jdstop = 2459995.50000\n",
    "jdstep = 0.1\n"
   ]
  },
  {
   "cell_type": "code",
   "execution_count": 10,
   "id": "4f9fac2d",
   "metadata": {},
   "outputs": [],
   "source": [
    "results = requests.get(f'{BASE_URL}namejdstep/{name}/{latitude}/{longitude}/{elevation}/{jdstart}/{jdstop}/{jdstep}')"
   ]
  },
  {
   "cell_type": "code",
   "execution_count": 11,
   "id": "aac0657d",
   "metadata": {},
   "outputs": [
    {
     "name": "stdout",
     "output_type": "stream",
     "text": [
      "[{'ALTITUDE-DEG': -37.68294655741, 'AZIMUTH-DEG': 85.89233866614, 'DECLINATION-DEG': -20.3919105093, 'JULIAN_DATE': 2459994.5, 'NAME': 'ISS', 'RANGE-KM': 9271.195095794683, 'RIGHT_ASCENSION-DEG': 182.70437174419}, {'ALTITUDE-DEG': -44.93472137038, 'AZIMUTH-DEG': 333.41195813355, 'DECLINATION-DEG': 1.61086675694, 'JULIAN_DATE': 2459994.6, 'NAME': 'ISS', 'RANGE-KM': 10363.748420977574, 'RIGHT_ASCENSION-DEG': 294.73025446893}, {'ALTITUDE-DEG': -57.2624074091, 'AZIMUTH-DEG': 201.64864058464, 'DECLINATION-DEG': -68.00075365749, 'JULIAN_DATE': 2459994.7, 'NAME': 'ISS', 'RANGE-KM': 11856.149817235195, 'RIGHT_ASCENSION-DEG': 344.24685907277}, {'ALTITUDE-DEG': 59.96175234524, 'AZIMUTH-DEG': 340.85181541072, 'DECLINATION-DEG': 66.94522824522, 'JULIAN_DATE': 2459994.8, 'NAME': 'ISS', 'RANGE-KM': 1128.359730420369, 'RIGHT_ASCENSION-DEG': 143.58384425468}, {'ALTITUDE-DEG': -54.37248519449, 'AZIMUTH-DEG': 69.59780040135, 'DECLINATION-DEG': -21.74444208462, 'JULIAN_DATE': 2459994.9, 'NAME': 'ISS', 'RANGE-KM': 11566.142017700591, 'RIGHT_ASCENSION-DEG': 348.56705328631}, {'ALTITUDE-DEG': -64.11487477473, 'AZIMUTH-DEG': 246.08585174663, 'DECLINATION-DEG': -45.63532291723, 'JULIAN_DATE': 2459995.0, 'NAME': 'ISS', 'RANGE-KM': 12550.508535355391, 'RIGHT_ASCENSION-DEG': 95.58228207426}, {'ALTITUDE-DEG': -6.84714358712, 'AZIMUTH-DEG': 336.17584438881, 'DECLINATION-DEG': 38.22924575469, 'JULIAN_DATE': 2459995.1, 'NAME': 'ISS', 'RANGE-KM': 4567.068445882226, 'RIGHT_ASCENSION-DEG': 127.32308873944}, {'ALTITUDE-DEG': -37.20357334251, 'AZIMUTH-DEG': 157.50280367116, 'DECLINATION-DEG': -72.34011972414, 'JULIAN_DATE': 2459995.2, 'NAME': 'ISS', 'RANGE-KM': 9177.623189250826, 'RIGHT_ASCENSION-DEG': 40.8855468061}, {'ALTITUDE-DEG': -66.66833610039, 'AZIMUTH-DEG': 39.50835106721, 'DECLINATION-DEG': -20.86245230715, 'JULIAN_DATE': 2459995.3, 'NAME': 'ISS', 'RANGE-KM': 12788.521301818577, 'RIGHT_ASCENSION-DEG': 153.30410658777}, {'ALTITUDE-DEG': -21.734278594, 'AZIMUTH-DEG': 306.39306730525, 'DECLINATION-DEG': 10.57317593928, 'JULIAN_DATE': 2459995.4, 'NAME': 'ISS', 'RANGE-KM': 6779.401249604943, 'RIGHT_ASCENSION-DEG': 254.5724716309}, {'ALTITUDE-DEG': -52.43047863819, 'AZIMUTH-DEG': 190.01005651406, 'DECLINATION-DEG': -75.89625480933, 'JULIAN_DATE': 2459995.5, 'NAME': 'ISS', 'RANGE-KM': 11292.00000326329, 'RIGHT_ASCENSION-DEG': 266.42461321154}]\n"
     ]
    }
   ],
   "source": [
    "print(results.json())"
   ]
  },
  {
   "cell_type": "markdown",
   "id": "63e9726c",
   "metadata": {},
   "source": [
    "Yet another option is to return the position of an object with a user defined orbit:"
   ]
  },
  {
   "cell_type": "code",
   "execution_count": 12,
   "id": "94a739bf",
   "metadata": {},
   "outputs": [],
   "source": [
    "#This endpoint returns the RA, DEC, Altitude, and Azimuth at the inputted JD relative to observers\n",
    "#latitude and longitude coordinates given a satellites TLE data\n",
    "tle = '1 25544U 98067A   23050.90915690  .00019097  00000+0  33852-3 0  9998 2 25544  51.6393 189.4175 0009582   7.6791  73.9158 15.50232555383604'\n",
    "flags = '&elevation=50000'"
   ]
  },
  {
   "cell_type": "code",
   "execution_count": 13,
   "id": "66a9c1df",
   "metadata": {},
   "outputs": [
    {
     "name": "stdout",
     "output_type": "stream",
     "text": [
      "{'Altitude': -36.987023608502554, 'Azimuth': 194.01554316356848, 'Declination': -78.73666248739426, 'Right Ascension': 342.4080839885102}\n"
     ]
    }
   ],
   "source": [
    "print(requests.get(f'{BASE_URL}tle/{tle}/{latitude}/{longitude}/{jd}/{flags}').json())"
   ]
  }
 ],
 "metadata": {
  "kernelspec": {
   "display_name": "eggl",
   "language": "python",
   "name": "py36"
  },
  "language_info": {
   "codemirror_mode": {
    "name": "ipython",
    "version": 3
   },
   "file_extension": ".py",
   "mimetype": "text/x-python",
   "name": "python",
   "nbconvert_exporter": "python",
   "pygments_lexer": "ipython3",
   "version": "3.6.13"
  },
  "vscode": {
   "interpreter": {
    "hash": "ad2bdc8ecc057115af97d19610ffacc2b4e99fae6737bb82f5d7fb13d2f2c186"
   }
  }
 },
 "nbformat": 4,
 "nbformat_minor": 5
}
